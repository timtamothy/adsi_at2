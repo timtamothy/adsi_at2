{
 "cells": [
  {
   "cell_type": "code",
   "execution_count": null,
   "id": "58cdc94d-a849-4626-9e41-06caa2ea64bb",
   "metadata": {},
   "outputs": [],
   "source": [
    "# specify the path and then load packages\n",
    "import sys\n",
    "sys.path.insert(0, '/Users/timtamothy/Documents/GitHub/adsi_at2/')\n",
    "\n",
    "import pandas as pd\n",
    "import numpy as np\n",
    "import matplotlib.pyplot as plt\n",
    "from src.data.sets import save_sets"
   ]
  }
 ],
 "metadata": {
  "kernelspec": {
   "display_name": "Python 3 (ipykernel)",
   "language": "python",
   "name": "python3"
  },
  "language_info": {
   "codemirror_mode": {
    "name": "ipython",
    "version": 3
   },
   "file_extension": ".py",
   "mimetype": "text/x-python",
   "name": "python",
   "nbconvert_exporter": "python",
   "pygments_lexer": "ipython3",
   "version": "3.10.8"
  }
 },
 "nbformat": 4,
 "nbformat_minor": 5
}
