{
 "cells": [
  {
   "cell_type": "code",
   "execution_count": 1,
   "id": "58cdc94d-a849-4626-9e41-06caa2ea64bb",
   "metadata": {},
   "outputs": [],
   "source": [
    "# specify the path and then load packages\n",
    "import sys\n",
    "sys.path.insert(0, '/Users/timtamothy/Documents/GitHub/adsi_at2/')\n",
    "\n",
    "import pandas as pd\n",
    "import numpy as np\n",
    "import matplotlib.pyplot as plt\n",
    "from src.data.sets import load_sets\n",
    "import torch\n",
    "import torch.nn as nn\n",
    "import torch.nn.functional as F\n",
    "from torch.utils.data import Dataset, DataLoader\n",
    "from src.models.pytorch import PytorchDataset"
   ]
  },
  {
   "cell_type": "code",
   "execution_count": 2,
   "id": "e5e5c3b8-a5e3-4191-abaa-3a11e61fb7d0",
   "metadata": {},
   "outputs": [],
   "source": [
    "# load our split data\n",
    "X_train, y_train, X_val, y_val, X_test, y_test = load_sets(path='../data/processed/ordinal_full/')"
   ]
  },
  {
   "cell_type": "code",
   "execution_count": 3,
   "id": "208c3d78-4ed1-49d3-a1d6-9cbf59945397",
   "metadata": {},
   "outputs": [
    {
     "data": {
      "text/plain": [
       "array([[2.484e+03, 4.000e+00, 4.000e+00, 4.000e+00, 4.500e+00],\n",
       "       [1.700e+03, 4.000e+00, 3.500e+00, 4.000e+00, 5.000e+00],\n",
       "       [4.266e+03, 4.000e+00, 3.500e+00, 3.500e+00, 3.500e+00],\n",
       "       ...,\n",
       "       [4.014e+03, 1.500e+00, 2.500e+00, 1.500e+00, 2.000e+00],\n",
       "       [4.883e+03, 3.500e+00, 3.500e+00, 3.500e+00, 3.000e+00],\n",
       "       [2.922e+03, 3.000e+00, 3.500e+00, 3.000e+00, 3.000e+00]])"
      ]
     },
     "execution_count": 3,
     "metadata": {},
     "output_type": "execute_result"
    }
   ],
   "source": [
    "X_train"
   ]
  },
  {
   "cell_type": "markdown",
   "id": "ccbfb87e-9b7b-4f60-a796-f276925b5316",
   "metadata": {},
   "source": [
    "### Baseline model for our data"
   ]
  },
  {
   "cell_type": "code",
   "execution_count": 4,
   "id": "ff003471-5231-48b0-a78a-9d483b66215f",
   "metadata": {},
   "outputs": [],
   "source": [
    "# test data on null model\n",
    "from src.models.null import NullModel"
   ]
  },
  {
   "cell_type": "code",
   "execution_count": 5,
   "id": "72b86d40-43b6-47a6-a6fa-0278ea64175e",
   "metadata": {},
   "outputs": [
    {
     "name": "stderr",
     "output_type": "stream",
     "text": [
      "/Users/timtamothy/Documents/GitHub/adsi_at2/src/models/null.py:43: FutureWarning: Unlike other reduction functions (e.g. `skew`, `kurtosis`), the default behavior of `mode` typically preserves the axis it acts along. In SciPy 1.11.0, this behavior will change: the default value of `keepdims` will become False, the `axis` over which the statistic is taken will be eliminated, and the value None will no longer be accepted. Set `keepdims` to True or False to avoid this warning.\n",
      "  self.pred_value = mode(y)[0][0]\n"
     ]
    }
   ],
   "source": [
    "baseline_model = NullModel(target_type='classification')\n",
    "y_base = baseline_model.fit_predict(y_train)"
   ]
  },
  {
   "cell_type": "code",
   "execution_count": 6,
   "id": "dadca413-348c-474a-a12c-338b8e5e80d8",
   "metadata": {},
   "outputs": [],
   "source": [
    "from src.models.performance import print_class_perf"
   ]
  },
  {
   "cell_type": "code",
   "execution_count": 7,
   "id": "4584ba47-e787-4417-9769-7a0aa8933ae8",
   "metadata": {},
   "outputs": [
    {
     "name": "stdout",
     "output_type": "stream",
     "text": [
      "Accuracy Training: 0.009618824683887191\n",
      "F1 Training: 0.0001832806323283962\n"
     ]
    }
   ],
   "source": [
    "print_class_perf(y_base, y_train, set_name = \"Training\", average = \"weighted\")"
   ]
  },
  {
   "cell_type": "markdown",
   "id": "ea924d65-6594-445a-b9f5-8d0a7c721131",
   "metadata": {},
   "source": [
    "### Build Architecture of NN"
   ]
  },
  {
   "cell_type": "code",
   "execution_count": 8,
   "id": "c9e37a2a-f7d1-4479-8171-eea5f62b71f0",
   "metadata": {},
   "outputs": [
    {
     "name": "stdout",
     "output_type": "stream",
     "text": [
      "True\n"
     ]
    }
   ],
   "source": [
    "import torch\n",
    "import math\n",
    "print(torch.backends.mps.is_available())"
   ]
  },
  {
   "cell_type": "code",
   "execution_count": 9,
   "id": "c1a865e0-b3f2-490f-87ca-248bece7829d",
   "metadata": {},
   "outputs": [
    {
     "name": "stdout",
     "output_type": "stream",
     "text": [
      "True\n"
     ]
    }
   ],
   "source": [
    "print(torch.backends.mps.is_built())"
   ]
  },
  {
   "cell_type": "code",
   "execution_count": 10,
   "id": "9182e8a1-21fe-462f-9abf-9e4052040e34",
   "metadata": {},
   "outputs": [],
   "source": [
    "from src.models.pytorch import PytorchMultiClass\n",
    "model = PytorchMultiClass(X_train.shape[1])"
   ]
  },
  {
   "cell_type": "code",
   "execution_count": 11,
   "id": "3baca08b-4541-4b36-a8d7-51c40a1628d0",
   "metadata": {},
   "outputs": [],
   "source": [
    "device = torch.device('mps')"
   ]
  },
  {
   "cell_type": "code",
   "execution_count": 12,
   "id": "739e7e10-bff0-404b-8ffe-304230bcf631",
   "metadata": {},
   "outputs": [
    {
     "data": {
      "text/plain": [
       "PytorchMultiClass(\n",
       "  (layer_1): Linear(in_features=5, out_features=16, bias=True)\n",
       "  (layer_out): Linear(in_features=16, out_features=4, bias=True)\n",
       ")"
      ]
     },
     "execution_count": 12,
     "metadata": {},
     "output_type": "execute_result"
    }
   ],
   "source": [
    "model.to(device)"
   ]
  },
  {
   "cell_type": "code",
   "execution_count": 13,
   "id": "27a805ce-e695-4c2c-aac2-bd7ddf32a7ed",
   "metadata": {},
   "outputs": [
    {
     "name": "stdout",
     "output_type": "stream",
     "text": [
      "PytorchMultiClass(\n",
      "  (layer_1): Linear(in_features=5, out_features=16, bias=True)\n",
      "  (layer_out): Linear(in_features=16, out_features=4, bias=True)\n",
      ")\n"
     ]
    }
   ],
   "source": [
    "# print model architecture\n",
    "print(model)"
   ]
  },
  {
   "cell_type": "markdown",
   "id": "e2e568cd-6b98-40d9-ad54-7a74c809470c",
   "metadata": {},
   "source": [
    "### Load Data into Model"
   ]
  },
  {
   "cell_type": "code",
   "execution_count": 14,
   "id": "73072958-2e86-4cad-9349-7d9c791ed283",
   "metadata": {},
   "outputs": [],
   "source": [
    "from torch.utils.data import Dataset, DataLoader\n",
    "from src.models.pytorch import PytorchDataset"
   ]
  },
  {
   "cell_type": "code",
   "execution_count": 15,
   "id": "276a771d-4ebb-47e9-8f36-2dc99298b8c1",
   "metadata": {},
   "outputs": [],
   "source": [
    "train_dataset = PytorchDataset(X=X_train, y=y_train)\n",
    "val_dataset = PytorchDataset(X=X_val, y=y_val)"
   ]
  },
  {
   "cell_type": "markdown",
   "id": "df52eee3-e6d4-4dc4-9647-506e0483e9aa",
   "metadata": {},
   "source": [
    "### Train Neural Network"
   ]
  },
  {
   "cell_type": "code",
   "execution_count": 16,
   "id": "dbd782c3-76a1-495a-a379-cea520ab83c6",
   "metadata": {},
   "outputs": [],
   "source": [
    "criterion = nn.CrossEntropyLoss()"
   ]
  },
  {
   "cell_type": "code",
   "execution_count": 21,
   "id": "13243183-ce02-4b76-9339-766ed8c58b17",
   "metadata": {},
   "outputs": [],
   "source": [
    "optimizer = torch.optim.Adam(model.parameters(), lr=0.01)"
   ]
  },
  {
   "cell_type": "code",
   "execution_count": 22,
   "id": "f598d798-b552-41a5-84ab-c7500635a080",
   "metadata": {},
   "outputs": [],
   "source": [
    "N_EPOCHS = 30\n",
    "BATCH_SIZE = 64"
   ]
  },
  {
   "cell_type": "code",
   "execution_count": 23,
   "id": "197ea2b7-5726-4a53-8731-e2a06060a36c",
   "metadata": {},
   "outputs": [],
   "source": [
    "from src.models.pytorch import train_classification, test_classification"
   ]
  },
  {
   "cell_type": "code",
   "execution_count": 24,
   "id": "fc5741e3-bb4f-4d49-aebd-5bab5845c633",
   "metadata": {},
   "outputs": [
    {
     "name": "stdout",
     "output_type": "stream",
     "text": [
      "Epoch: 0\n",
      "\t(train)\t|\tLoss: 0.0008\t|\tAcc: 0.9%\n",
      "\t(valid)\t|\tLoss: 0.0008\t|\tAcc: 1.0%\n",
      "Epoch: 1\n",
      "\t(train)\t|\tLoss: 0.0008\t|\tAcc: 1.0%\n",
      "\t(valid)\t|\tLoss: 0.0008\t|\tAcc: 1.0%\n",
      "Epoch: 2\n",
      "\t(train)\t|\tLoss: 0.0008\t|\tAcc: 0.9%\n",
      "\t(valid)\t|\tLoss: 0.0008\t|\tAcc: 1.0%\n",
      "Epoch: 3\n",
      "\t(train)\t|\tLoss: 0.0008\t|\tAcc: 1.0%\n",
      "\t(valid)\t|\tLoss: 0.0008\t|\tAcc: 1.0%\n",
      "Epoch: 4\n",
      "\t(train)\t|\tLoss: 0.0008\t|\tAcc: 1.0%\n",
      "\t(valid)\t|\tLoss: 0.0008\t|\tAcc: 1.0%\n",
      "Epoch: 5\n",
      "\t(train)\t|\tLoss: 0.0008\t|\tAcc: 1.0%\n",
      "\t(valid)\t|\tLoss: 0.0008\t|\tAcc: 1.0%\n",
      "Epoch: 6\n",
      "\t(train)\t|\tLoss: 0.0008\t|\tAcc: 0.9%\n",
      "\t(valid)\t|\tLoss: 0.0008\t|\tAcc: 1.0%\n",
      "Epoch: 7\n",
      "\t(train)\t|\tLoss: 0.0008\t|\tAcc: 0.9%\n",
      "\t(valid)\t|\tLoss: 0.0008\t|\tAcc: 1.0%\n",
      "Epoch: 8\n",
      "\t(train)\t|\tLoss: 0.0008\t|\tAcc: 0.9%\n",
      "\t(valid)\t|\tLoss: 0.0008\t|\tAcc: 1.0%\n",
      "Epoch: 9\n",
      "\t(train)\t|\tLoss: 0.0008\t|\tAcc: 1.0%\n",
      "\t(valid)\t|\tLoss: 0.0008\t|\tAcc: 1.0%\n",
      "Epoch: 10\n",
      "\t(train)\t|\tLoss: 0.0008\t|\tAcc: 1.0%\n",
      "\t(valid)\t|\tLoss: 0.0008\t|\tAcc: 1.0%\n",
      "Epoch: 11\n",
      "\t(train)\t|\tLoss: 0.0008\t|\tAcc: 1.0%\n",
      "\t(valid)\t|\tLoss: 0.0008\t|\tAcc: 1.0%\n",
      "Epoch: 12\n",
      "\t(train)\t|\tLoss: 0.0008\t|\tAcc: 1.0%\n",
      "\t(valid)\t|\tLoss: 0.0008\t|\tAcc: 1.0%\n",
      "Epoch: 13\n",
      "\t(train)\t|\tLoss: 0.0008\t|\tAcc: 0.9%\n",
      "\t(valid)\t|\tLoss: 0.0008\t|\tAcc: 1.0%\n",
      "Epoch: 14\n",
      "\t(train)\t|\tLoss: 0.0008\t|\tAcc: 1.0%\n",
      "\t(valid)\t|\tLoss: 0.0008\t|\tAcc: 1.0%\n",
      "Epoch: 15\n",
      "\t(train)\t|\tLoss: 0.0008\t|\tAcc: 1.0%\n",
      "\t(valid)\t|\tLoss: 0.0008\t|\tAcc: 1.0%\n",
      "Epoch: 16\n",
      "\t(train)\t|\tLoss: 0.0008\t|\tAcc: 1.0%\n",
      "\t(valid)\t|\tLoss: 0.0008\t|\tAcc: 1.0%\n",
      "Epoch: 17\n",
      "\t(train)\t|\tLoss: 0.0008\t|\tAcc: 0.9%\n",
      "\t(valid)\t|\tLoss: 0.0008\t|\tAcc: 1.0%\n",
      "Epoch: 18\n",
      "\t(train)\t|\tLoss: 0.0008\t|\tAcc: 1.0%\n",
      "\t(valid)\t|\tLoss: 0.0008\t|\tAcc: 1.0%\n",
      "Epoch: 19\n",
      "\t(train)\t|\tLoss: 0.0008\t|\tAcc: 1.0%\n",
      "\t(valid)\t|\tLoss: 0.0008\t|\tAcc: 1.0%\n",
      "Epoch: 20\n",
      "\t(train)\t|\tLoss: 0.0008\t|\tAcc: 0.9%\n",
      "\t(valid)\t|\tLoss: 0.0008\t|\tAcc: 1.0%\n",
      "Epoch: 21\n",
      "\t(train)\t|\tLoss: 0.0008\t|\tAcc: 1.0%\n",
      "\t(valid)\t|\tLoss: 0.0008\t|\tAcc: 1.0%\n",
      "Epoch: 22\n",
      "\t(train)\t|\tLoss: 0.0008\t|\tAcc: 1.0%\n",
      "\t(valid)\t|\tLoss: 0.0008\t|\tAcc: 1.0%\n",
      "Epoch: 23\n",
      "\t(train)\t|\tLoss: 0.0008\t|\tAcc: 1.0%\n",
      "\t(valid)\t|\tLoss: 0.0008\t|\tAcc: 1.0%\n",
      "Epoch: 24\n",
      "\t(train)\t|\tLoss: 0.0008\t|\tAcc: 1.0%\n",
      "\t(valid)\t|\tLoss: 0.0008\t|\tAcc: 1.0%\n",
      "Epoch: 25\n",
      "\t(train)\t|\tLoss: 0.0008\t|\tAcc: 1.0%\n",
      "\t(valid)\t|\tLoss: 0.0008\t|\tAcc: 1.0%\n",
      "Epoch: 26\n",
      "\t(train)\t|\tLoss: 0.0008\t|\tAcc: 0.9%\n",
      "\t(valid)\t|\tLoss: 0.0008\t|\tAcc: 1.0%\n",
      "Epoch: 27\n",
      "\t(train)\t|\tLoss: 0.0008\t|\tAcc: 0.9%\n",
      "\t(valid)\t|\tLoss: 0.0008\t|\tAcc: 1.0%\n",
      "Epoch: 28\n",
      "\t(train)\t|\tLoss: 0.0008\t|\tAcc: 0.9%\n",
      "\t(valid)\t|\tLoss: 0.0008\t|\tAcc: 1.0%\n",
      "Epoch: 29\n",
      "\t(train)\t|\tLoss: 0.0008\t|\tAcc: 1.0%\n",
      "\t(valid)\t|\tLoss: 0.0008\t|\tAcc: 1.0%\n"
     ]
    }
   ],
   "source": [
    "for epoch in range(N_EPOCHS):\n",
    "    train_loss, train_acc = train_classification(train_dataset, model=model, criterion=criterion, optimizer=optimizer, batch_size=BATCH_SIZE, device=device)\n",
    "    valid_loss, valid_acc = test_classification(val_dataset, model=model, criterion=criterion, batch_size=BATCH_SIZE, device=device)\n",
    "\n",
    "    print(f'Epoch: {epoch}')\n",
    "    print(f'\\t(train)\\t|\\tLoss: {train_loss:.4f}\\t|\\tAcc: {train_acc * 100:.1f}%')\n",
    "    print(f'\\t(valid)\\t|\\tLoss: {valid_loss:.4f}\\t|\\tAcc: {valid_acc * 100:.1f}%')"
   ]
  },
  {
   "cell_type": "code",
   "execution_count": null,
   "id": "7f5c0162-a5cd-485b-b3e3-b7ff38c3989e",
   "metadata": {},
   "outputs": [],
   "source": []
  },
  {
   "cell_type": "code",
   "execution_count": null,
   "id": "23df0dbe-e45c-431a-b357-551429de634d",
   "metadata": {},
   "outputs": [],
   "source": []
  }
 ],
 "metadata": {
  "kernelspec": {
   "display_name": "Python 3 (ipykernel)",
   "language": "python",
   "name": "python3"
  },
  "language_info": {
   "codemirror_mode": {
    "name": "ipython",
    "version": 3
   },
   "file_extension": ".py",
   "mimetype": "text/x-python",
   "name": "python",
   "nbconvert_exporter": "python",
   "pygments_lexer": "ipython3",
   "version": "3.10.8"
  }
 },
 "nbformat": 4,
 "nbformat_minor": 5
}
